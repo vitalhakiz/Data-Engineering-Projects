{
 "cells": [
  {
   "cell_type": "markdown",
   "id": "3672151a",
   "metadata": {},
   "source": [
    "Assignment 1:\n",
    "Your mission, should you choose to accept it, is to implement a library management system in\n",
    "Python. The system should allow users to add books, remove books, search for books, and\n",
    "display a list of all books in the library. Each book should have the following attributes: title,\n",
    "author, publication year, and ISBN. Additionally, the system should keep track of the total\n",
    "number of books in the library, as well as the number of available books (i.e. not currently\n",
    "checked out).\n",
    "Write a Python class called `LibraryBook` that represents a single book in the library. The class\n",
    "should have the following methods:\n",
    "Write a short code snippet that demonstrates how to use the `Library` class to perform the\n",
    "following actions:\n",
    "- Create a new library object.\n",
    "- Add three new books to the library.\n",
    "- Search for books with the search term \"Python\" and print the results.\n",
    "- Check out one of the books.\n",
    "- List all of the books in the library.\n",
    "- Check in the book that was checked out.\n",
    "- List all of the books in the library again to verify that the book was checked in successfully.\n"
   ]
  },
  {
   "cell_type": "code",
   "execution_count": 1,
   "id": "39cb0472",
   "metadata": {},
   "outputs": [],
   "source": [
    "class LibraryBook():\n",
    "    def __init__(self,title,author,publication_year, ISBN):\n",
    "        self.checked=False\n",
    "        self.title=title\n",
    "        self.author=author\n",
    "        self.publication_year=publication_year\n",
    "        self.ISBN=ISBN\n",
    "        \n",
    "    def __str__(self):\n",
    "        if not self.checked:\n",
    "            status = 'Book Available'\n",
    "        else:\n",
    "            status = 'Book checked out'\n",
    "        \n",
    "        return f'The book {self.title} published by {self.author} in ({self.publication_year}), ISBN: {self.ISBN}-{status}'\n",
    "    \n",
    "            \n",
    "    def checkout(self):\n",
    "        if not self.checked:\n",
    "            self.checked=True\n",
    "            return True\n",
    "        else:\n",
    "            return False\n",
    "        \n",
    "    def checkin(self):\n",
    "        if self.checked:\n",
    "            self.checked=False\n",
    "            return True\n",
    "        else:\n",
    "            return False\n",
    "        \n",
    "   \n",
    "        \n",
    "class Library():\n",
    "    def __init__(self):\n",
    "        self.Number_books = 0\n",
    "        self.books = []\n",
    "        \n",
    "    def Add_Books(self,title,author,publication_year,ISBN):\n",
    "        new_book = LibraryBook(title,author,publication_year,ISBN)\n",
    "        self.books.append(new_book)\n",
    "        self.Number_books += 1\n",
    "        \n",
    "    def Check_Books_In_List(self):\n",
    "        return self.books\n",
    "    \n",
    "    def Remove_Book(self, book):\n",
    "            if book in self.books:\n",
    "                self.books.remove(book)\n",
    "                self.Number_books-=1\n",
    "                \n",
    "    def Search_Book(self, search_term):\n",
    "        Books_matches = []\n",
    "        for book in self.books:\n",
    "            if search_term.lower() in book.title.lower() or search_term.lower() in book.author.lower():\n",
    "                Books_matches.append(book)\n",
    "                \n",
    "            else:\n",
    "                continue\n",
    "                \n",
    "        return Books_matches\n",
    "    \n",
    "    def checkout(self,book):\n",
    "        return book.checkout()\n",
    "\n",
    "            \n",
    "    def checkin(self,book):\n",
    "        return book.checkin()\n",
    "    \n",
    "    def List_Books_Library(self):\n",
    "        for book in self.books:\n",
    "            print(book)\n",
    "                \n",
    "        \n"
   ]
  },
  {
   "cell_type": "code",
   "execution_count": 2,
   "id": "6bced646",
   "metadata": {},
   "outputs": [],
   "source": [
    "# Create a new library object\n",
    "my_library_books = Library()\n",
    "\n",
    "# Add three new books to the library\n",
    "my_library_books.Add_Books('Deep Learning with Python ', 'Birahman Bhikasha', 1998, '789126')\n",
    "my_library_books.Add_Books('Python Programming for Data Analytics', 'Vital Hakiz', 2023, '129854')\n",
    "my_library_books.Add_Books('Applied Stochastic Process', 'Moise Busogi', 2014, '237278')\n"
   ]
  },
  {
   "cell_type": "code",
   "execution_count": 3,
   "id": "0755ddd8",
   "metadata": {},
   "outputs": [
    {
     "name": "stdout",
     "output_type": "stream",
     "text": [
      "The book Deep Learning with Python  published by Birahman Bhikasha in (1998), ISBN: 789126-Book Available\n",
      "The book Python Programming for Data Analytics published by Vital Hakiz in (2023), ISBN: 129854-Book Available\n",
      "The book Applied Stochastic Process published by Moise Busogi in (2014), ISBN: 237278-Book Available\n"
     ]
    }
   ],
   "source": [
    "# See the books vailable in the library\n",
    "my_library_books.List_Books_Library()"
   ]
  },
  {
   "cell_type": "code",
   "execution_count": 4,
   "id": "5304a605",
   "metadata": {},
   "outputs": [
    {
     "name": "stdout",
     "output_type": "stream",
     "text": [
      "The book Deep Learning with Python  published by Birahman Bhikasha in (1998), ISBN: 789126-Book Available\n",
      "The book Python Programming for Data Analytics published by Vital Hakiz in (2023), ISBN: 129854-Book Available\n"
     ]
    }
   ],
   "source": [
    "# Search for books with the search term \"Python\" and print the results\n",
    "Books_with_Python = my_library_books.Search_Book('Python')\n",
    "for book in Books_with_Python:\n",
    "    print(book)\n",
    "\n"
   ]
  },
  {
   "cell_type": "code",
   "execution_count": 5,
   "id": "50039a0d",
   "metadata": {},
   "outputs": [],
   "source": [
    "# Let's check also on the remove the book function\n",
    "book_to_remove = my_library_books.Check_Books_In_List()[2]\n",
    "my_library_books.Remove_Book(book_to_remove)\n"
   ]
  },
  {
   "cell_type": "code",
   "execution_count": 6,
   "id": "7b2e2fbd",
   "metadata": {},
   "outputs": [
    {
     "name": "stdout",
     "output_type": "stream",
     "text": [
      "The book Deep Learning with Python  published by Birahman Bhikasha in (1998), ISBN: 789126-Book Available\n",
      "The book Python Programming for Data Analytics published by Vital Hakiz in (2023), ISBN: 129854-Book Available\n"
     ]
    }
   ],
   "source": [
    "# See the books vailable in the library after removing one\n",
    "my_library_books.List_Books_Library()"
   ]
  },
  {
   "cell_type": "code",
   "execution_count": null,
   "id": "aa9a8d70",
   "metadata": {},
   "outputs": [],
   "source": []
  },
  {
   "cell_type": "code",
   "execution_count": 7,
   "id": "625f00e2",
   "metadata": {},
   "outputs": [
    {
     "name": "stdout",
     "output_type": "stream",
     "text": [
      "Successfully checked out Python Programming for Data Analytics\n"
     ]
    }
   ],
   "source": [
    "# Check out one of the books\n",
    "book_to_checkout = Books_with_Python[1]\n",
    "if my_library_books.checkout(book_to_checkout):\n",
    "    print(f'Successfully checked out {book_to_checkout.title}')\n",
    "else:\n",
    "    print(f'Could not check out {book_to_checkout.title} - book is already checked out')\n",
    "\n"
   ]
  },
  {
   "cell_type": "code",
   "execution_count": 8,
   "id": "57db7626",
   "metadata": {},
   "outputs": [
    {
     "name": "stdout",
     "output_type": "stream",
     "text": [
      "The Books in library are:\n",
      " \n",
      "The book Deep Learning with Python  published by Birahman Bhikasha in (1998), ISBN: 789126-Book Available\n",
      "The book Python Programming for Data Analytics published by Vital Hakiz in (2023), ISBN: 129854-Book checked out\n"
     ]
    }
   ],
   "source": [
    "# List all of the books in the library\n",
    "print('The Books in library are:')\n",
    "print(' ')\n",
    "my_library_books.List_Books_Library()\n",
    "\n"
   ]
  },
  {
   "cell_type": "code",
   "execution_count": 9,
   "id": "310e2e36",
   "metadata": {},
   "outputs": [
    {
     "name": "stdout",
     "output_type": "stream",
     "text": [
      "Successfully checked in Python Programming for Data Analytics\n"
     ]
    }
   ],
   "source": [
    "# Check in the book that was checked out\n",
    "if my_library_books.checkin(book_to_checkout):\n",
    "    print(f'Successfully checked in {book_to_checkout.title}')\n",
    "else:\n",
    "    print(f'Could not check in {book_to_checkout.title} - book is not checked out')\n",
    "\n"
   ]
  },
  {
   "cell_type": "code",
   "execution_count": 10,
   "id": "c4d80323",
   "metadata": {},
   "outputs": [
    {
     "name": "stdout",
     "output_type": "stream",
     "text": [
      "The Books in library are:\n",
      " \n",
      "The book Deep Learning with Python  published by Birahman Bhikasha in (1998), ISBN: 789126-Book Available\n",
      "The book Python Programming for Data Analytics published by Vital Hakiz in (2023), ISBN: 129854-Book Available\n"
     ]
    }
   ],
   "source": [
    "# List all of the books in the library again to verify that the book was checked in successfully\n",
    "print('The Books in library are:')\n",
    "print(' ')\n",
    "my_library_books.List_Books_Library()"
   ]
  },
  {
   "cell_type": "code",
   "execution_count": null,
   "id": "264bc760",
   "metadata": {},
   "outputs": [],
   "source": []
  },
  {
   "cell_type": "code",
   "execution_count": null,
   "id": "408f3754",
   "metadata": {},
   "outputs": [],
   "source": []
  }
 ],
 "metadata": {
  "kernelspec": {
   "display_name": "Python 3",
   "language": "python",
   "name": "python3"
  },
  "language_info": {
   "codemirror_mode": {
    "name": "ipython",
    "version": 3
   },
   "file_extension": ".py",
   "mimetype": "text/x-python",
   "name": "python",
   "nbconvert_exporter": "python",
   "pygments_lexer": "ipython3",
   "version": "3.8.8"
  }
 },
 "nbformat": 4,
 "nbformat_minor": 5
}
